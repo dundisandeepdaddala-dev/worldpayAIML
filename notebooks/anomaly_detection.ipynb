# This will be a Jupyter Notebook with the following cells:

# Cell 1: Import libraries
import pandas as pd
import numpy as np
from sklearn.ensemble import IsolationForest
from sklearn.preprocessing import StandardScaler
import matplotlib.pyplot as plt
from prometheus_api_client import PrometheusConnect

# Cell 2: Connect to Prometheus
prom = PrometheusConnect(url="http://localhost:9090", disable_ssl=True)

# Cell 3: Query metrics
query = 'avg_over_time(system_metrics{cpu_usage}[5m])'
metric_data = prom.custom_query(query=query)
df = pd.DataFrame(metric_data)

# Cell 4: Preprocess data
# Preprocessing steps here

# Cell 5: Train anomaly detection model
model = IsolationForest(contamination=0.1, random_state=42)
model.fit(df[['value']])

# Cell 6: Detect anomalies
df['anomaly'] = model.predict(df[['value']])
anomalies = df[df['anomaly'] == -1]

# Cell 7: Visualize results
plt.figure(figsize=(12, 6))
plt.plot(df['timestamp'], df['value'], color='blue', label='Normal')
plt.scatter(anomalies['timestamp'], anomalies['value'], color='red', label='Anomaly')
plt.title('CPU Usage Anomaly Detection')
plt.legend()
plt.show()
